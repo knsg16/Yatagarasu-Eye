{
  "nbformat": 4,
  "nbformat_minor": 0,
  "metadata": {
    "colab": {
      "provenance": [],
      "machine_shape": "hm",
      "gpuType": "V100",
      "authorship_tag": "ABX9TyPfPfPqk9gR1AwGBCayaXHr",
      "include_colab_link": true
    },
    "kernelspec": {
      "name": "python3",
      "display_name": "Python 3"
    },
    "language_info": {
      "name": "python"
    },
    "accelerator": "GPU"
  },
  "cells": [
    {
      "cell_type": "markdown",
      "metadata": {
        "id": "view-in-github",
        "colab_type": "text"
      },
      "source": [
        "<a href=\"https://colab.research.google.com/github/knsg16/Yatagarasu-Eye/blob/main/yatagarasu_eye.ipynb\" target=\"_parent\"><img src=\"https://colab.research.google.com/assets/colab-badge.svg\" alt=\"Open In Colab\"/></a>"
      ]
    },
    {
      "cell_type": "code",
      "execution_count": null,
      "metadata": {
        "id": "A_PQsMvK8BeH"
      },
      "outputs": [],
      "source": [
        "import tensorflow as tf\n",
        "from tensorflow.keras import layers, models"
      ]
    },
    {
      "cell_type": "code",
      "source": [
        "model = models.Sequential([\n",
        "    layers.Conv3D(8, kernel_size=(3, 3, 3), activation='relu', input_shape=(30, 1280, 720, 3)),\n",
        "    layers.MaxPooling3D(pool_size=(2, 2, 2)),\n",
        "    layers.Conv3D(16, kernel_size=(3, 3, 3), activation='relu'),\n",
        "    layers.MaxPooling3D(pool_size=(2, 2, 2)),\n",
        "    # 他のConv3DレイヤーやMaxPooling3Dレイヤーを追加\n",
        "    layers.Flatten(),\n",
        "    layers.Dense(32, activation='relu'),\n",
        "    layers.Dense(2, activation='softmax')\n",
        "])"
      ],
      "metadata": {
        "id": "faVaibA_8J3t"
      },
      "execution_count": null,
      "outputs": []
    },
    {
      "cell_type": "code",
      "source": [
        "model.compile(optimizer='adam', loss='categorical_crossentropy', metrics=['accuracy'])"
      ],
      "metadata": {
        "id": "W4Z8Wn3G-k4n"
      },
      "execution_count": null,
      "outputs": []
    }
  ]
}